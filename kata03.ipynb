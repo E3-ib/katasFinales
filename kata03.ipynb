{
 "cells": [
  {
   "cell_type": "markdown",
   "metadata": {},
   "source": [
    "#                               ejercicios de kata del modulo 3 🐍 "
   ]
  },
  {
   "cell_type": "markdown",
   "metadata": {},
   "source": [
    "## Ejercicio #1"
   ]
  },
  {
   "cell_type": "code",
   "execution_count": null,
   "metadata": {},
   "outputs": [],
   "source": [
    "\"\"\" Para este ejercicio, escribirás una lógica condicional que imprima una advertencia si un asteroide \n",
    " se acerca a la Tierra demasiado rápido. La velocidad del asteroide varía dependiendo de lo cerca que esté del sol, \n",
    " cualquier velocidad superior a 25 kilómetros por segundo (km/s) merece una advertencia.\n",
    " Un asteroide se acerca, y viaja a una velocidad de 49 km/s. \"\"\"\n",
    "\n",
    "# Añadir el código necesario para crear una variable que guarde la velocidad del asteroide.\n",
    "# Escribe una expresión de prueba para calcular si necesita una advertencia.\n",
    "# Agregue las instrucciones que se ejecutarán si la expresión de prueba es true o false.\n",
    "\n",
    "velocidadAsteroide  = 49\n",
    "\n",
    "if velocidadAsteroide > 25:\n",
    "    print(\"¡¡¡ADVERTENCIA DE IMPACTO!!!\")\n",
    "elif velocidadAsteroide < 25:\n",
    "    print(\"No existe riesgo de impacto\")\n"
   ]
  },
  {
   "cell_type": "markdown",
   "metadata": {},
   "source": [
    "# Ejercicio #2"
   ]
  },
  {
   "cell_type": "code",
   "execution_count": 2,
   "metadata": {},
   "outputs": [
    {
     "name": "stdout",
     "output_type": "stream",
     "text": [
      "El asteroide solo entro a la atmosfera, puede que veas el as de luz\n"
     ]
    }
   ],
   "source": [
    "\"\"\"Si un asteroide entra en la atmósfera de la Tierra a una velocidad mayor o igual a 20 km/s,\n",
    " a veces produce un rayo de luz que se puede ver desde la Tierra. \n",
    " Escribe la lógica condicional que usa declaraciones if, else, y elif para alertar a las personas de \n",
    " todo el mundo que deben buscar un asteroide en el cielo. ¡Hay uno que se dirige a la tierra ahora a \n",
    " una velocidad de 19 km/s! \"\"\"\n",
    "\n",
    "# Agrega el código para crear una variable para un asteroide que viaja a 19 km/s\n",
    "# Escribe varias expresiones de prueba para determinar si puedes ver el rayo de luz desde la tierra\n",
    "# Agrega las instrucciones que se ejecutarán si las expresiones de prueba son True o False\n",
    "\n",
    "velocidadAsteroideKms = 19\n",
    "\n",
    "if velocidadAsteroideKms >= 20:\n",
    "    print(\"El asteroide entro a la atmosfera, ve a buscarlo!\")\n",
    "elif velocidadAsteroideKms <= 20:\n",
    "    print(\"El asteroide solo entro a la atmosfera, puede que veas el as de luz\")\n",
    "else :\n",
    "    print(\"Ni vayas a buscar mejor el asteroide, no veras el as de luz\")\n"
   ]
  },
  {
   "cell_type": "markdown",
   "metadata": {},
   "source": [
    "# Ejercicio #3 operadores AND y OR"
   ]
  },
  {
   "cell_type": "code",
   "execution_count": 5,
   "metadata": {},
   "outputs": [
    {
     "name": "stdout",
     "output_type": "stream",
     "text": [
      "existe riesgo de impacto en la tierra, toma tus precauciones pero si quieres morir sal a ver el destello de luz\n"
     ]
    }
   ],
   "source": [
    "\"\"\"En este ejercicio, aprenderás información más matizada sobre cuándo los asteroides representan un peligro para la Tierra,\n",
    " y utilizarás esa información para mejorar nuestro sistema de advertencia. Aquí está la nueva información que necesitas saber:\n",
    "\n",
    "                *Los asteroides de menos de 25 metros en su dimensión más grande probablemente se quemarán a medida que entren en \n",
    "                la atmósfera de la Tierra.\n",
    "                *Si una pieza de un asteroide que es más grande que 25 metros pero más pequeña que 1000 metros golpeara la Tierra,\n",
    "                causaría mucho daño.\n",
    "                *escribe un programa que emita la advertencia o información correcta a la gente de la Tierra, \n",
    "                según la velocidad y el tamaño de un asteroide. Utiliza instrucciones if, else, y elif, \n",
    "                así como los operadores and y or.\n",
    " \"\"\"\n",
    "\n",
    "# Agrega el código para crear nuevas variables para la velocidad y el tamaño del asteroide\n",
    "# Para probar el código, prueba con varias velocidades y tamaños\n",
    "# Escribe varias expresiones de prueba o combinaciones de expresiones de prueba para determinar qué mensaje se debe enviar a Tierra.\n",
    "\n",
    "velocidad = 29\n",
    "tamano = 80\n",
    "if velocidad >= 25 and velocidad >= 20:\n",
    "    print(\"existe riesgo de impacto en la tierra, toma tus precauciones pero si quieres morir sal a ver el destello de luz\") \n",
    "elif velocidad < 25 or velocidad < 20:\n",
    "    print(\"No existe riesgo de impacto en la tierra, puede que observes el destello de la luz o quiza no\")\n",
    "else: \n",
    "    print(\"No existe riesgo de nada, tranqui\")\n",
    "\n"
   ]
  }
 ],
 "metadata": {
  "interpreter": {
   "hash": "cea9ac5fb29e255f8d7048985ac38019b5f990197851d217c4fe2b8d54ccf4ae"
  },
  "kernelspec": {
   "display_name": "Python 3.10.2 64-bit",
   "language": "python",
   "name": "python3"
  },
  "language_info": {
   "codemirror_mode": {
    "name": "ipython",
    "version": 3
   },
   "file_extension": ".py",
   "mimetype": "text/x-python",
   "name": "python",
   "nbconvert_exporter": "python",
   "pygments_lexer": "ipython3",
   "version": "3.10.2"
  },
  "orig_nbformat": 4
 },
 "nbformat": 4,
 "nbformat_minor": 2
}
