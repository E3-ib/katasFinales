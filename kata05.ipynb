{
 "cells": [
  {
   "cell_type": "markdown",
   "metadata": {},
   "source": [
    "# Usar operadores matematicos ✏📐"
   ]
  },
  {
   "cell_type": "markdown",
   "metadata": {},
   "source": [
    "## Problema 1"
   ]
  },
  {
   "cell_type": "code",
   "execution_count": null,
   "metadata": {},
   "outputs": [],
   "source": [
    "distanciaTierra = 149597870\n",
    "distanciaJupiter = 778547200\n",
    "\n",
    "distancias = distanciaJupiter - distanciaTierra \n",
    "\n",
    "print(f\"La distancia entre los dos planetas es de: {distancias}\")\n",
    "print('-'*53)\n",
    "\n",
    "distanciaMilas = distancias * 0.621\n",
    "\n",
    "print(f\"La distancia en millas es de: {distanciaMilas}\")\n"
   ]
  },
  {
   "cell_type": "markdown",
   "metadata": {},
   "source": [
    "## Problema 2 "
   ]
  },
  {
   "cell_type": "code",
   "execution_count": null,
   "metadata": {},
   "outputs": [],
   "source": [
    "distancia_Planeta1 = input(\"Introduce la distancia del primer planeta: \")\n",
    "distancia_Planeta2 = input(\"Introduce la distancia del segundo planeta: \")\n",
    "\n",
    "distancia_Planeta1 = float(distancia_Planeta1)\n",
    "distancia_Planeta2 = float(distancia_Planeta2)\n",
    "#print(f\"{distancia_Planeta1} \\n {distancia_Planeta2}\")\n",
    "\n",
    "resta_Planetas = distancia_Planeta2 - distancia_Planeta1\n",
    "print(f\"La distancia en KM entre los planetas es de: {resta_Planetas}\")\n",
    "\n",
    "millas_Planetas = resta_Planetas * 0.621\n",
    "\n",
    "print(f\"La distancia en millas entre ambos planetas es de: {abs(millas_Planetas)}\")"
   ]
  }
 ],
 "metadata": {
  "interpreter": {
   "hash": "cea9ac5fb29e255f8d7048985ac38019b5f990197851d217c4fe2b8d54ccf4ae"
  },
  "kernelspec": {
   "display_name": "Python 3.10.2 64-bit",
   "language": "python",
   "name": "python3"
  },
  "language_info": {
   "codemirror_mode": {
    "name": "ipython",
    "version": 3
   },
   "file_extension": ".py",
   "mimetype": "text/x-python",
   "name": "python",
   "nbconvert_exporter": "python",
   "pygments_lexer": "ipython3",
   "version": "3.10.2"
  },
  "orig_nbformat": 4
 },
 "nbformat": 4,
 "nbformat_minor": 2
}
