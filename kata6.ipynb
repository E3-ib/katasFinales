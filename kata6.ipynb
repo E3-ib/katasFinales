{
 "cells": [
  {
   "cell_type": "markdown",
   "metadata": {},
   "source": [
    "# ejercicio 6 \n"
   ]
  },
  {
   "cell_type": "markdown",
   "metadata": {},
   "source": [
    "# Primer ejercicio"
   ]
  },
  {
   "cell_type": "code",
   "execution_count": null,
   "metadata": {},
   "outputs": [],
   "source": [
    "planets = ['Mercurio', 'Venus', 'la_Tierra', 'Marte', 'Júpiter', 'Saturno', 'Urano', 'Neptuno']\n",
    "numersPlanets = len(planets)\n",
    "print('el numero de planetas es de: ', numersPlanets)\n",
    "\n",
    "planets.append('Plutón')\n",
    "numersPlanets =len(planets)\n",
    "print('el nuevo numero de planetas es de: ', numersPlanets)\n",
    "\n",
    "#mostrarPlanetas = planets[0:8]\n",
    "#print(mostrarPlanetas) "
   ]
  },
  {
   "cell_type": "markdown",
   "metadata": {},
   "source": [
    "# Segundo ejercicio"
   ]
  },
  {
   "cell_type": "code",
   "execution_count": null,
   "metadata": {},
   "outputs": [],
   "source": [
    "planets = ['Mercury', 'Venus', 'Earth', 'Mars', 'Jupiter', 'Saturn', 'Neptune']\n",
    "nuevoPlaneta = input(\"ingresa un planeta nuevo, recuerda ingresar la primera letra en mayuscula: \")\n",
    "print(nuevoPlaneta)\n",
    "\n",
    "encontarPlaneta = planets.index(nuevoPlaneta)\n",
    "\n",
    "print(f\"el mas cercano al sol {nuevoPlaneta}\")\n",
    "print(planets[0:encontarPlaneta])\n",
    "\n",
    "print(f\"El mas alejado es {nuevoPlaneta}\")\n",
    "print(planets[encontarPlaneta + 1:])"
   ]
  }
 ],
 "metadata": {
  "interpreter": {
   "hash": "cea9ac5fb29e255f8d7048985ac38019b5f990197851d217c4fe2b8d54ccf4ae"
  },
  "kernelspec": {
   "display_name": "Python 3.10.2 64-bit",
   "language": "python",
   "name": "python3"
  },
  "language_info": {
   "codemirror_mode": {
    "name": "ipython",
    "version": 3
   },
   "file_extension": ".py",
   "mimetype": "text/x-python",
   "name": "python",
   "nbconvert_exporter": "python",
   "pygments_lexer": "ipython3",
   "version": "3.10.2"
  },
  "orig_nbformat": 4
 },
 "nbformat": 4,
 "nbformat_minor": 2
}
