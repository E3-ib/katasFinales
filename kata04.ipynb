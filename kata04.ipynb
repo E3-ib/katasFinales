{
 "cells": [
  {
   "cell_type": "markdown",
   "metadata": {},
   "source": [
    "# Ejercicio 1: Transformar cadenas 🔗"
   ]
  },
  {
   "cell_type": "code",
   "execution_count": null,
   "metadata": {},
   "outputs": [],
   "source": [
    "text = \"\"\"Interesting facts about the Moon. The Moon is Earth's only satellite. There are several interesting facts about the Moon and how it affects life here on Earth.\n",
    "        On average, the Moon moves 4cm away from the Earth every year. This yearly drift is not significant enough to cause immediate effects on Earth. The highest daylight temperature of the Moon is 127 C.\"\"\"\n",
    "\n",
    "textParts = text.split('.')\n",
    "print(textParts) \n",
    "textParts2 = text.split('average, temperature, distance')\n",
    "print(textParts2)\n",
    "for moon in textParts:\n",
    "        for text2 in textParts2:\n",
    "                if moon in text2:\n",
    "                        print(moon)\n",
    "                        \n",
    "        #replace para cambiar c a celcius\n",
    "                        print(moon.replace('C', 'Celcius'))\n",
    "                        break"
   ]
  },
  {
   "cell_type": "markdown",
   "metadata": {},
   "source": [
    "# Ejercicio 2: Formateando cadenas"
   ]
  },
  {
   "cell_type": "code",
   "execution_count": 24,
   "metadata": {},
   "outputs": [
    {
     "name": "stdout",
     "output_type": "stream",
     "text": [
      "----------------------------------- \n",
      "namePlanet: Moon \n",
      "infoPlanet: Earth: 1.6199999999999999 \n",
      "\n",
      "Datos sobre el otro planeta \n",
      "----------------------------------- \n",
      "nombrePlaneta: Marte  \n",
      "info_Planeta: Ganímedes: 1.4300000000000002\n"
     ]
    }
   ],
   "source": [
    "#f string print(f\"\"texto{}\")\n",
    "\n",
    "# Datos con los que vas a trabajar\n",
    "name = \"Moon\"\n",
    "gravity = 0.00162 # in kms\n",
    "planet = \"Earth\"\n",
    "title = f\"facts about {name}\"\n",
    "\n",
    "#crear la linea que divide el texto \"-\" \n",
    "resto_info = f\"\"\"{'-'*35} \n",
    "namePlanet: {name} \n",
    "infoPlanet: {planet}: {gravity * 1000} \\n\"\"\" \n",
    "print(resto_info)\n",
    "\n",
    "#nuevos datos\n",
    "\n",
    "planeta = 'Marte '\n",
    "gravedad  = 0.00143\n",
    "nombre = 'Ganímedes'\n",
    "\n",
    "resto_info = f\"\"\"Datos sobre el otro planeta \n",
    "{'-'*35} \n",
    "nombrePlaneta: {planeta} \n",
    "info_Planeta: {nombre}: {gravedad * 1000}\"\"\" \n",
    "\n",
    "print(resto_info)"
   ]
  }
 ],
 "metadata": {
  "interpreter": {
   "hash": "cea9ac5fb29e255f8d7048985ac38019b5f990197851d217c4fe2b8d54ccf4ae"
  },
  "kernelspec": {
   "display_name": "Python 3.10.2 64-bit",
   "language": "python",
   "name": "python3"
  },
  "language_info": {
   "codemirror_mode": {
    "name": "ipython",
    "version": 3
   },
   "file_extension": ".py",
   "mimetype": "text/x-python",
   "name": "python",
   "nbconvert_exporter": "python",
   "pygments_lexer": "ipython3",
   "version": "3.10.2"
  },
  "orig_nbformat": 4
 },
 "nbformat": 4,
 "nbformat_minor": 2
}
