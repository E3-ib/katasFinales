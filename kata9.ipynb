{
 "cells": [
  {
   "cell_type": "markdown",
   "metadata": {},
   "source": [
    "# Funciones, ejercio 9"
   ]
  },
  {
   "cell_type": "markdown",
   "metadata": {},
   "source": [
    "##### Ejercicio 1: Trabajar con argumentos en funciones"
   ]
  },
  {
   "cell_type": "code",
   "execution_count": null,
   "metadata": {},
   "outputs": [],
   "source": [
    "def combustible(tanque1,tanque2,tanque3):\n",
    "    datos = (tanque1 + tanque2 + tanque3) / 3\n",
    "    return f\"\"\"reporte:\n",
    "    datosTanque: {datos}%\n",
    "    tanque_1: {tanque1}%\n",
    "    tanque_2:{tanque2}%\n",
    "    tanque_3: {tanque3}%\"\"\"\n",
    "print(combustible(35,50,25))\n",
    "\n",
    "def conbustible2(valores):\n",
    "    total = sum(valores)\n",
    "    totalCombustible = len(valores)\n",
    "    return total / totalCombustible\n",
    "conbustible2((10, 66, 78))\n",
    "\n",
    "def conbustible(tanque1,tanque2,tanque3):\n",
    "    return f\"\"\"reporte:\n",
    "    datosTanque: {datos}%\n",
    "    tanque_1: {tanque1}%\n",
    "    tanque_2:{tanque2}%\n",
    "    tanque_3: {tanque3}%\"\"\"\n",
    "print(combustible(75,56,95))\n"
   ]
  },
  {
   "cell_type": "markdown",
   "metadata": {},
   "source": [
    "## Ejercicio 2"
   ]
  },
  {
   "cell_type": "code",
   "execution_count": 25,
   "metadata": {},
   "outputs": [
    {
     "name": "stdout",
     "output_type": "stream",
     "text": [
      " lugar Mision: marte\n",
      "    tiempo viaje: 210 horas tiempo estimado\n",
      "    combustible: 6231 lts de reserva de combustible\n",
      "    \n",
      " lugar Mision: urano\n",
      "    tiempo viaje: 11915 horas tiempo estimado\n",
      "    combustible: 130921 lts de reserva de combustible\n",
      "    \n",
      " lugar Mision: urano\n",
      "    tiempo viaje: 11915 horas tiempo estimado\n",
      "    combustible: 130921 lts de reserva de combustible\n",
      "    main tanq --> 65456 litros restantesexternal tanq --> 65465 litros restantes\n"
     ]
    }
   ],
   "source": [
    "def  mision(hora_Prelanzamiento, tiempo_Vuelo, destino, tanque_Externo,tanque_Interno):\n",
    "    return f\"\"\" lugar Mision: {destino}\n",
    "    tiempo viaje: {hora_Prelanzamiento + tiempo_Vuelo} horas tiempo estimado\n",
    "    combustible: {tanque_Externo + tanque_Interno} lts de reserva de combustible\n",
    "    \"\"\"\n",
    "\n",
    "print(mision(55,155,\"marte\", 2665, 3566 ))\n",
    "\n",
    "def  mision(destino, *horas,**tanques):\n",
    "    return f\"\"\" lugar Mision: {destino}\n",
    "    tiempo viaje: {sum(horas)} horas tiempo estimado\n",
    "    combustible: {sum(tanques.values())} lts de reserva de combustible\n",
    "    \"\"\" \n",
    "    \n",
    "print(mision(\"urano\", 2665, 3566, 5684, main=65456, external=65465 ))\n",
    "\n",
    "def  mision(destino, *horas,**tanques):\n",
    "    reportes = f\"\"\" lugar Mision: {destino}\n",
    "    tiempo viaje: {sum(horas)} horas tiempo estimado\n",
    "    combustible: {sum(tanques.values())} lts de reserva de combustible\n",
    "    \"\"\" \n",
    "    for tanqe, lts in tanques.items():\n",
    "        reportes += f\"{tanqe} tanq --> {lts} litros restantes\" \n",
    "    return reportes\n",
    "\n",
    "print(mision(\"urano\", 2665, 3566, 5684, main=65456, external=65465 ))"
   ]
  }
 ],
 "metadata": {
  "interpreter": {
   "hash": "cea9ac5fb29e255f8d7048985ac38019b5f990197851d217c4fe2b8d54ccf4ae"
  },
  "kernelspec": {
   "display_name": "Python 3.10.2 64-bit",
   "language": "python",
   "name": "python3"
  },
  "language_info": {
   "codemirror_mode": {
    "name": "ipython",
    "version": 3
   },
   "file_extension": ".py",
   "mimetype": "text/x-python",
   "name": "python",
   "nbconvert_exporter": "python",
   "pygments_lexer": "ipython3",
   "version": "3.10.2"
  },
  "orig_nbformat": 4
 },
 "nbformat": 4,
 "nbformat_minor": 2
}
